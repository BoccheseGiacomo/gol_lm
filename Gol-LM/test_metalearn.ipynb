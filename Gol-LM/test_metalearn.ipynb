{
 "cells": [
  {
   "cell_type": "code",
   "execution_count": null,
   "metadata": {},
   "outputs": [],
   "source": [
    "import gol_lm_metalearn"
   ]
  },
  {
   "cell_type": "code",
   "execution_count": null,
   "metadata": {},
   "outputs": [],
   "source": [
    "test= gol_lm_metalearn.GolLM()\n",
    "test.randomize_board(0.4)\n",
    "input=\"1234\"\n",
    "test.learn_over_sentence(input,vismode=True)"
   ]
  },
  {
   "cell_type": "code",
   "execution_count": null,
   "metadata": {},
   "outputs": [],
   "source": [
    "test=gol_lm_metalearn.GolLM()\n",
    "test.randomize_board(0.4)\n",
    "input=\"1234\"\n",
    "temperature=0.1\n",
    "test.multiple_token_inference(input,temperature,vismode=True)"
   ]
  }
 ],
 "metadata": {
  "kernelspec": {
   "display_name": "slackenv",
   "language": "python",
   "name": "python3"
  },
  "language_info": {
   "codemirror_mode": {
    "name": "ipython",
    "version": 3
   },
   "file_extension": ".py",
   "mimetype": "text/x-python",
   "name": "python",
   "nbconvert_exporter": "python",
   "pygments_lexer": "ipython3",
   "version": "3.10.13"
  }
 },
 "nbformat": 4,
 "nbformat_minor": 2
}
